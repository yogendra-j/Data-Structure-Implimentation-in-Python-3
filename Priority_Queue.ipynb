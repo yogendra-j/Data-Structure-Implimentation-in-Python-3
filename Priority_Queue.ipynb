{
 "cells": [
  {
   "cell_type": "markdown",
   "metadata": {},
   "source": [
    "## Priority Queue"
   ]
  },
  {
   "cell_type": "code",
   "execution_count": 84,
   "metadata": {},
   "outputs": [],
   "source": [
    "class PriorityQueue:\n",
    "    \n",
    "    def __init__(self, arr= None, key= lambda x: x):\n",
    "        '''\n",
    "        arr: indexed iterable to add to queue (default= None)\n",
    "        key: Function for comparison (default= lambda x: x)\n",
    "        '''\n",
    "        self.data = [None]\n",
    "        self.size = 0\n",
    "        self.key = key\n",
    "        if arr:\n",
    "            self.heapyfi(arr)\n",
    "    \n",
    "    def _validate_pos(self, pos):\n",
    "        '''return True is pos is valid'''\n",
    "        if pos > self.size:\n",
    "            raise IndexError('Out of Bound')\n",
    "        return True\n",
    "    \n",
    "    def _parent(self, pos):\n",
    "        '''return position (index) of parent of element at position pos'''\n",
    "        self._validate_pos(pos)\n",
    "        return pos // 2\n",
    "    \n",
    "    def _left_child(self, pos):\n",
    "        '''return position of left child of element at postion pos if exist else return None'''\n",
    "        self._validate_pos(pos)\n",
    "        try:\n",
    "            self._validate_pos(2 * pos)\n",
    "            return 2 * pos\n",
    "        except:\n",
    "            return None\n",
    "    \n",
    "    def _right_child(self, pos):\n",
    "        '''return postion of right child if exist else return None'''\n",
    "        self._validate_pos(pos)\n",
    "        try:\n",
    "            self._validate_pos(2 * pos + 1)\n",
    "            return 2 * pos + 1\n",
    "        except:\n",
    "            return None\n",
    "    \n",
    "    def _swap(self, pos1, pos2):\n",
    "        '''swap elemnts at pos1 and pos2'''\n",
    "        self._validate_pos(pos1)\n",
    "        self._validate_pos(pos2)\n",
    "        self.data[pos1], self.data[pos2] = self.data[pos2], self.data[pos1]\n",
    "    \n",
    "    def _max_child(self, pos):\n",
    "        '''return position of child whith max priority of the two children (or return left child or return None if leaf node)'''\n",
    "        \n",
    "        if not self._left_child(pos):\n",
    "            return None\n",
    "        \n",
    "        if not self._right_child(pos):\n",
    "            return self._left_child(pos)\n",
    "        \n",
    "        if self.key(self.data[self._left_child(pos)]) >= self.key(self.data[self._right_child(pos)]):\n",
    "            return self._left_child(pos)\n",
    "        \n",
    "        return self._right_child(pos)\n",
    "        \n",
    "    def insert(self, element):\n",
    "        '''insert element into Queue'''\n",
    "        \n",
    "        self.size += 1\n",
    "        self.data.append(element)\n",
    "        self._bubbleUP(self.size)\n",
    "    \n",
    "    def peek(self):\n",
    "        '''returns top priority element'''\n",
    "        \n",
    "        if self.size == 0:\n",
    "            raise Exception(\"Queue is Empty\")\n",
    "            \n",
    "        return self.data[1]\n",
    "    \n",
    "    def pop(self):\n",
    "        '''returns and delets top priority element'''\n",
    "        \n",
    "        if self.size == 0:\n",
    "            raise Exception(\"Queue is Empty\")\n",
    "            \n",
    "        self._swap(pos1=1, pos2=self.size)\n",
    "        out = self.data.pop()\n",
    "        self.size -= 1\n",
    "        if self.size > 1:\n",
    "            self._sinkDown(1)\n",
    "        \n",
    "        return out\n",
    "    \n",
    "    def heapyfi(self, arr):\n",
    "        '''takes any indexed iterable arr and adds all elements into priority queue'''\n",
    "        \n",
    "        for e in arr:\n",
    "            self.insert(e)\n",
    "    \n",
    "    def _bubbleUP(self, pos):\n",
    "        '''bubble up the element at position pos to its correct postion'''\n",
    "        \n",
    "        self._validate_pos(pos)\n",
    "        \n",
    "        while pos > 1 and self.key(self.data[pos]) > self.key(self.data[self._parent(pos)]):\n",
    "            self._swap(pos, self._parent(pos))\n",
    "            pos = self._parent(pos)\n",
    "    \n",
    "    def _sinkDown(self, pos):\n",
    "        '''sink the element at positon pos to its correct postion'''\n",
    "        \n",
    "        self._validate_pos(pos)\n",
    "        \n",
    "        while self._max_child(pos) and self.key(self.data[pos]) < self.key(self.data[self._max_child(pos)]):\n",
    "            # storing max_child index before swaping max_child or index could chnage\n",
    "            temp = self._max_child(pos)\n",
    "            self._swap(pos, self._max_child(pos))\n",
    "            pos = temp\n",
    "    \n",
    "    def __len__(self):\n",
    "        return self.size\n",
    "    \n",
    "    def heapsort(self):\n",
    "        '''return sorted array of items in queue, deletes all items'''\n",
    "        out = []\n",
    "        while self.size :\n",
    "            out.append(self.pop())\n",
    "        return out\n",
    "        \n",
    "\n",
    "    "
   ]
  },
  {
   "cell_type": "code",
   "execution_count": 107,
   "metadata": {},
   "outputs": [],
   "source": [
    "l = [['Alok', 15], ['Tom', 55], ['Xin', 34], ['Daisy', 65], ['Rohini', 23]] # names and ages\n",
    "pq1 = PriorityQueue(l, key= lambda x: x[1]) # priority is age, more age-->more priority"
   ]
  },
  {
   "cell_type": "code",
   "execution_count": 108,
   "metadata": {},
   "outputs": [
    {
     "data": {
      "text/plain": [
       "['Daisy', 65]"
      ]
     },
     "execution_count": 108,
     "metadata": {},
     "output_type": "execute_result"
    }
   ],
   "source": [
    "pq1.peek()"
   ]
  },
  {
   "cell_type": "code",
   "execution_count": 109,
   "metadata": {},
   "outputs": [
    {
     "data": {
      "text/plain": [
       "5"
      ]
     },
     "execution_count": 109,
     "metadata": {},
     "output_type": "execute_result"
    }
   ],
   "source": [
    "len(pq1)"
   ]
  },
  {
   "cell_type": "code",
   "execution_count": 110,
   "metadata": {},
   "outputs": [
    {
     "data": {
      "text/plain": [
       "[['Daisy', 65], ['Tom', 55], ['Xin', 34], ['Rohini', 23], ['Alok', 15]]"
      ]
     },
     "execution_count": 110,
     "metadata": {},
     "output_type": "execute_result"
    }
   ],
   "source": [
    "pq1.heapsort()"
   ]
  },
  {
   "cell_type": "code",
   "execution_count": null,
   "metadata": {},
   "outputs": [],
   "source": []
  }
 ],
 "metadata": {
  "kernelspec": {
   "display_name": "Python 3",
   "language": "python",
   "name": "python3"
  },
  "language_info": {
   "codemirror_mode": {
    "name": "ipython",
    "version": 3
   },
   "file_extension": ".py",
   "mimetype": "text/x-python",
   "name": "python",
   "nbconvert_exporter": "python",
   "pygments_lexer": "ipython3",
   "version": "3.7.6"
  }
 },
 "nbformat": 4,
 "nbformat_minor": 4
}
