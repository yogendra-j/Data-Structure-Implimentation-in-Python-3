{
 "cells": [
  {
   "cell_type": "code",
   "execution_count": 197,
   "metadata": {},
   "outputs": [],
   "source": [
    "class Node:\n",
    "    \n",
    "    def __init__(self, data):\n",
    "        self.data = data\n",
    "        self.height = 0\n",
    "        self.left = None\n",
    "        self.right = None\n",
    "\n",
    "\n",
    "class AVLtree:\n",
    "    \n",
    "    def __init__(self, key=lambda x: x):\n",
    "    \n",
    "        self.root = None\n",
    "        self.size = 0\n",
    "        self.key = key\n",
    "    \n",
    "    def _getheight(self, node):\n",
    "        '''return height of the node'''\n",
    "        \n",
    "        # if node == None; return -1\n",
    "        if node:\n",
    "            return node.height\n",
    "        \n",
    "        return -1\n",
    "    \n",
    "    def _updateheight(self, node):\n",
    "        '''private method to update height'''\n",
    "        \n",
    "        node.height = max(self._getheight(node.left), self._getheight(node.right)) + 1\n",
    "        \n",
    "    def _heightdiff(self, node):\n",
    "        '''returns diffrence in height of left and right children, +ve means left heavy'''\n",
    "        \n",
    "        if not node:\n",
    "            return 0\n",
    "        \n",
    "        return self._getheight(node.left) - self._getheight(node.right)\n",
    "    \n",
    "    def _rightrotation(self, node):\n",
    "        '''rotate right the node'''\n",
    "        \n",
    "        # make node node.left.right, and make node.left node.left.right\n",
    "        temp = node.left  # new root of subtree\n",
    "        node.left = node.left.right\n",
    "        temp.right = node\n",
    "        \n",
    "        # update heights\n",
    "        self._updateheight(node)\n",
    "        self._updateheight(temp)\n",
    "        \n",
    "        return temp\n",
    "    \n",
    "    def _leftrotation(self, node):\n",
    "        '''rotate left the node'''\n",
    "        \n",
    "        temp = node.right  # new root of subtree\n",
    "        node.right = node.right.left\n",
    "        temp.left = node\n",
    "        \n",
    "        # update heights\n",
    "        self._updateheight(node)\n",
    "        self._updateheight(temp)\n",
    "        \n",
    "        return temp\n",
    "    \n",
    "    def insert(self, data):\n",
    "        '''insert item into the AVL tree'''\n",
    "        \n",
    "        if self.root:\n",
    "            self.root = self._insert(data, self.root)\n",
    "            \n",
    "        else:\n",
    "            # if this is first item into the tree\n",
    "            self.root = Node(data)\n",
    "            \n",
    "        self.size += 1\n",
    "    \n",
    "    def _insert(self, data, node):\n",
    "        '''private method to insert item'''\n",
    "        \n",
    "        if not node:\n",
    "            node = Node(data)\n",
    "        \n",
    "        elif self.key(data) >= self.key(node.data):\n",
    "            node.right = self._insert(data, node.right)\n",
    "        \n",
    "        else:\n",
    "            node.left = self._insert(data, node.left)\n",
    "            \n",
    "        # update height\n",
    "        self._updateheight(node)\n",
    "        \n",
    "        return self._makebalanced(data, node)\n",
    "    \n",
    "    def _makebalanced(self, data, node):\n",
    "        '''private method to make tree AVL/balanced'''\n",
    "        \n",
    "        # check unbalance type\n",
    "        if self._heightdiff(node) > 1:  #left heavy unbalance\n",
    "            \n",
    "            if self.key(data) < node.data:   # left left unbalance (new node has been added to the left of left child of node)\n",
    "                return self._rightrotation(node)\n",
    "            \n",
    "            else:\n",
    "                node.left = self._leftrotation(node.left)\n",
    "                return self._rightrotation(node)\n",
    "        \n",
    "        elif self._heightdiff(node) < -1:  # right heavy\n",
    "            \n",
    "            if self.key(data) >= node.data:  # right right unbalance\n",
    "                return self._leftrotation(node)\n",
    "            \n",
    "            else:\n",
    "                node.right = self._rightrotation(node.right)\n",
    "                return self._leftrotation(node)\n",
    "        else:\n",
    "            return node\n",
    "    \n",
    "    def remove(self, data):\n",
    "        '''removes item from the bst'''\n",
    "        \n",
    "        if self.size == 0:\n",
    "            raise Exception(\"Cannot remove from empty BST\")\n",
    "            \n",
    "        self.root = self._remove(data, self.root)\n",
    "        self.size -= 1\n",
    "    \n",
    "    def _remove(self, data, node):\n",
    "        '''private method to remove item'''\n",
    "        \n",
    "        if not node:\n",
    "            raise Exception(\"Item Not Found\")\n",
    "            \n",
    "        # check if item is in right or left subtree\n",
    "        if self.key(data) >= self.key(node.data) and data != node.data:  # even if key is equal, item can be diffrent\n",
    "            # right child of node needs to be changed\n",
    "            node.right = self._remove(data, node.right)\n",
    "            \n",
    "        elif self.key(data) < self.key(node.data):\n",
    "            node.left = self._remove(data, node.left)\n",
    "        \n",
    "        # if item is equal to node.data\n",
    "        else:\n",
    "            # check if left node\n",
    "            if not node.right and not node.left:\n",
    "                del node\n",
    "                return None   # parent node should have None child\n",
    "            # if only left child \n",
    "            if not node.right:\n",
    "                return node.left  # parent should have node.left as child\n",
    "            # only right child\n",
    "            if not node.left:\n",
    "                return node.right\n",
    "            # node has both children\n",
    "            # replace node.data with data of its predecessor or sucessor\n",
    "            predecessor = self._getpredecessor(node)\n",
    "            node.data = predecessor.data\n",
    "            # now remove predecessor which will be easy because it will have atmost one child i.e. left child since it is rightmost node\n",
    "            node.left = self._remove(predecessor.data, node.left) # root for this operation is node.left\n",
    "            \n",
    "        if not node:\n",
    "            return\n",
    "        \n",
    "        # update height\n",
    "        self._updateheight(node)\n",
    "        \n",
    "        if self._heightdiff(node) > 1:  # left heavy\n",
    "            \n",
    "            if self._heightdiff(node.left) >= 0: # left left \n",
    "                return self._rightrotation(node)\n",
    "            else:\n",
    "                node.left = self._leftrotation(node.left)\n",
    "                return node._rightrotation(node)\n",
    "            \n",
    "        elif self._heightdiff(node) < - 1: # right heavy\n",
    "            \n",
    "            if self._heightdiff(node.right) <= 0:\n",
    "                return self._leftrotation(node)\n",
    "            else:\n",
    "                node.right = self._rightrotation(node.right)\n",
    "                return self._leftrotation(node)\n",
    "            \n",
    "        return node\n",
    "    \n",
    "    def _getpredecessor(self, node):\n",
    "        '''private method to get predecessor i.e. max node of left subtree'''\n",
    "        \n",
    "        # get rightmost node of subtree for curr\n",
    "        return self._getmax(node.left)\n",
    "    \n",
    "    def getmin(self):\n",
    "        '''return minimum item '''\n",
    "        \n",
    "        return self._getmin().data\n",
    "    \n",
    "    def _getmin(self, curr=None):\n",
    "        '''private method to return leftmot node'''\n",
    "        \n",
    "        if self.size < 1:\n",
    "              raise Exception(\"No item in the BST\")\n",
    "        if not curr:\n",
    "            curr = self.root\n",
    "        # get leftmost node\n",
    "        while curr.left:\n",
    "            curr = curr.left\n",
    "        return curr\n",
    "    \n",
    "    def getmax(self):\n",
    "        '''return maximum item'''\n",
    "        \n",
    "        return self._getmax().data\n",
    "    \n",
    "    def _getmax(self, curr=None):\n",
    "        '''private method to return rightmost node'''\n",
    "        \n",
    "        if self.size < 1:\n",
    "            raise Exception(\"No item in the BST\")\n",
    "        if not curr:  \n",
    "            curr = self.root\n",
    "        # get rightmost node\n",
    "        while curr.right:\n",
    "            curr = curr.right\n",
    "            \n",
    "        return curr\n",
    "    \n",
    "    def getsorted(self):\n",
    "        '''returns list of items in non decreasing order (comparison via key)'''\n",
    "        \n",
    "        out = []\n",
    "        if self.size == 0:\n",
    "            return out\n",
    "        \n",
    "        self._inorder(self.root, out)\n",
    "        return out\n",
    "    \n",
    "    def _inorder(self, node, arr):\n",
    "        '''adds items in the arr in order'''\n",
    "        \n",
    "        # recusivly add nodes in order ....left, root, right\n",
    "        if node.left:\n",
    "            self._inorder(node.left, arr)\n",
    "            \n",
    "        arr.append(node.data)\n",
    "        \n",
    "        if node.right:\n",
    "            self._inorder(node.right, arr)"
   ]
  },
  {
   "cell_type": "code",
   "execution_count": 221,
   "metadata": {},
   "outputs": [],
   "source": [
    "avl = AVLtree()"
   ]
  },
  {
   "cell_type": "code",
   "execution_count": 222,
   "metadata": {},
   "outputs": [],
   "source": [
    "l = [12,43,12,46,67,12,10,100]\n",
    "for i in l:\n",
    "    avl.insert(i)"
   ]
  },
  {
   "cell_type": "code",
   "execution_count": 223,
   "metadata": {},
   "outputs": [
    {
     "data": {
      "text/plain": [
       "8"
      ]
     },
     "execution_count": 223,
     "metadata": {},
     "output_type": "execute_result"
    }
   ],
   "source": [
    "avl.size"
   ]
  },
  {
   "cell_type": "code",
   "execution_count": 224,
   "metadata": {},
   "outputs": [
    {
     "data": {
      "text/plain": [
       "[10, 12, 12, 12, 43, 46, 67, 100]"
      ]
     },
     "execution_count": 224,
     "metadata": {},
     "output_type": "execute_result"
    }
   ],
   "source": [
    "avl.getsorted()"
   ]
  },
  {
   "cell_type": "code",
   "execution_count": 225,
   "metadata": {},
   "outputs": [
    {
     "data": {
      "text/plain": [
       "100"
      ]
     },
     "execution_count": 225,
     "metadata": {},
     "output_type": "execute_result"
    }
   ],
   "source": [
    "avl.getmax()"
   ]
  },
  {
   "cell_type": "code",
   "execution_count": 226,
   "metadata": {},
   "outputs": [
    {
     "data": {
      "text/plain": [
       "10"
      ]
     },
     "execution_count": 226,
     "metadata": {},
     "output_type": "execute_result"
    }
   ],
   "source": [
    "avl.getmin()"
   ]
  },
  {
   "cell_type": "code",
   "execution_count": 227,
   "metadata": {},
   "outputs": [],
   "source": [
    "avl.remove(67)"
   ]
  },
  {
   "cell_type": "code",
   "execution_count": 228,
   "metadata": {},
   "outputs": [
    {
     "data": {
      "text/plain": [
       "[10, 12, 12, 12, 43, 46, 100]"
      ]
     },
     "execution_count": 228,
     "metadata": {},
     "output_type": "execute_result"
    }
   ],
   "source": [
    "avl.getsorted()"
   ]
  },
  {
   "cell_type": "code",
   "execution_count": null,
   "metadata": {},
   "outputs": [],
   "source": []
  }
 ],
 "metadata": {
  "kernelspec": {
   "display_name": "Python 3",
   "language": "python",
   "name": "python3"
  },
  "language_info": {
   "codemirror_mode": {
    "name": "ipython",
    "version": 3
   },
   "file_extension": ".py",
   "mimetype": "text/x-python",
   "name": "python",
   "nbconvert_exporter": "python",
   "pygments_lexer": "ipython3",
   "version": "3.7.6"
  }
 },
 "nbformat": 4,
 "nbformat_minor": 4
}
