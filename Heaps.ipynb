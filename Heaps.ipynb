{
 "cells": [
  {
   "cell_type": "markdown",
   "metadata": {},
   "source": [
    "## Min Heap"
   ]
  },
  {
   "cell_type": "code",
   "execution_count": 71,
   "metadata": {},
   "outputs": [],
   "source": [
    "class MinHeap:\n",
    "    \n",
    "    def __init__(self):\n",
    "        self.size = 0\n",
    "        self.data = [None]\n",
    "    \n",
    "    def parent(self, pos):\n",
    "        '''\n",
    "        returns position of parent of element at pos\n",
    "        None if element is root\n",
    "        '''\n",
    "        if pos > self.size:\n",
    "            raise KeyError('pos doesn\\'t exist')\n",
    "        if pos == 1:\n",
    "            return None\n",
    "        return pos // 2\n",
    "    \n",
    "    def rightChild(self, pos):\n",
    "        '''returns position of right child if exist or None'''\n",
    "        if pos > self.size:\n",
    "            raise KeyError('pos doesn\\'t exist')\n",
    "        if self.size >= 2 * pos + 1:\n",
    "            return 2 * pos + 1\n",
    "        return None\n",
    "    \n",
    "    def leftChild(self, pos):\n",
    "        '''returns position of left chlild if exist or None'''\n",
    "        if pos > self.size:\n",
    "            raise KeyError('pos doesn\\'t exist')\n",
    "        if self.size >= 2 * pos:\n",
    "            return 2 * pos\n",
    "        return None\n",
    "    \n",
    "    def minChild(self, pos):\n",
    "        '''returns position of min child of element at pos or None if no child exist'''\n",
    "        if pos > self.size:\n",
    "            raise KeyError('pos doesn\\'t exist')\n",
    "        if self.rightChild(pos):\n",
    "            return self.leftChild(pos) if (self.data[self.leftChild(pos)] <= self.data[self.rightChild(pos)]) else self.rightChild(pos)\n",
    "        else:\n",
    "            return self.leftChild(pos)\n",
    "    \n",
    "    def swap(self, pos1, pos2):\n",
    "        '''swaps elements at pos1 and pos2'''\n",
    "        if max(pos1, pos2) > self.size:\n",
    "            raise KeyError('pos1 or pos2 doesn\\'t exist')\n",
    "        self.data[pos1], self.data[pos2] = self.data[pos2], self.data[pos1]\n",
    "    \n",
    "    def bubbleUP(self, pos):\n",
    "        '''correct position of element at pos by bubbling it up'''\n",
    "        if pos > self.size:\n",
    "            raise KeyError('pos doesn\\'t exist')\n",
    "        while (pos > 1) and (self.data[pos] < self.data[self.parent(pos)]):\n",
    "            self.swap(pos, self.parent(pos))\n",
    "            pos = self.parent(pos)\n",
    "    \n",
    "    def sinkDown(self, pos):\n",
    "        '''correct position of element at pos but sinking it down'''\n",
    "        if pos > self.size:\n",
    "            raise KeyError('pos doesn\\'t exist')\n",
    "        while self.minChild(pos) and self.data[pos] > self.data[self.minChild(pos)]:\n",
    "            newpos = self.minChild(pos)\n",
    "            self.swap(pos, newpos)\n",
    "            pos = newpos\n",
    "    \n",
    "    def insert(self, e):\n",
    "        '''insert e in minheap'''\n",
    "        self.data.append(e)\n",
    "        self.size += 1\n",
    "        self.bubbleUP(self.size - 1)\n",
    "    \n",
    "    def removeMin(self):\n",
    "        '''remove and return min element'''\n",
    "        if self.size == 0:\n",
    "            raise Exception('Can\\'t remove from empty heap')\n",
    "        self.swap(1, self.size)\n",
    "        out = self.data.pop()\n",
    "        self.size -= 1\n",
    "        if self.size > 1:\n",
    "            self.sinkDown(1)\n",
    "        return out\n",
    "    \n",
    "    def peek(self):\n",
    "        '''returns min element'''\n",
    "        if not self.size:\n",
    "            raise KeyError('no element exist')\n",
    "        return self.data[1]\n",
    "        \n",
    "    def __len__(self):\n",
    "        return self.size\n",
    "    "
   ]
  },
  {
   "cell_type": "code",
   "execution_count": 96,
   "metadata": {},
   "outputs": [
    {
     "data": {
      "text/plain": [
       "True"
      ]
     },
     "execution_count": 96,
     "metadata": {},
     "output_type": "execute_result"
    }
   ],
   "source": [
    "mh = MinHeap()\n",
    "array = [4, 12, 43, 65, 123, 643, 13, 32, 2545, 245, 31444, 141, 146, 1341, 134, 355]\n",
    "for i in array:\n",
    "    mh.insert(i)\n",
    "new = []\n",
    "while len(mh) > 0:\n",
    "    new.append(mh.removeMin())\n",
    "new == sorted(array)"
   ]
  },
  {
   "cell_type": "code",
   "execution_count": 93,
   "metadata": {},
   "outputs": [
    {
     "data": {
      "text/plain": [
       "[None]"
      ]
     },
     "execution_count": 93,
     "metadata": {},
     "output_type": "execute_result"
    }
   ],
   "source": [
    "mh.data"
   ]
  },
  {
   "cell_type": "code",
   "execution_count": 94,
   "metadata": {},
   "outputs": [
    {
     "ename": "KeyError",
     "evalue": "'no element exist'",
     "output_type": "error",
     "traceback": [
      "\u001b[1;31m---------------------------------------------------------------------------\u001b[0m",
      "\u001b[1;31mKeyError\u001b[0m                                  Traceback (most recent call last)",
      "\u001b[1;32m<ipython-input-94-459d22fb1a40>\u001b[0m in \u001b[0;36m<module>\u001b[1;34m\u001b[0m\n\u001b[1;32m----> 1\u001b[1;33m \u001b[0mmh\u001b[0m\u001b[1;33m.\u001b[0m\u001b[0mpeek\u001b[0m\u001b[1;33m(\u001b[0m\u001b[1;33m)\u001b[0m\u001b[1;33m\u001b[0m\u001b[1;33m\u001b[0m\u001b[0m\n\u001b[0m",
      "\u001b[1;32m<ipython-input-71-3e3664d1ea9d>\u001b[0m in \u001b[0;36mpeek\u001b[1;34m(self)\u001b[0m\n\u001b[0;32m     84\u001b[0m         \u001b[1;34m'''returns min element'''\u001b[0m\u001b[1;33m\u001b[0m\u001b[1;33m\u001b[0m\u001b[0m\n\u001b[0;32m     85\u001b[0m         \u001b[1;32mif\u001b[0m \u001b[1;32mnot\u001b[0m \u001b[0mself\u001b[0m\u001b[1;33m.\u001b[0m\u001b[0msize\u001b[0m\u001b[1;33m:\u001b[0m\u001b[1;33m\u001b[0m\u001b[1;33m\u001b[0m\u001b[0m\n\u001b[1;32m---> 86\u001b[1;33m             \u001b[1;32mraise\u001b[0m \u001b[0mKeyError\u001b[0m\u001b[1;33m(\u001b[0m\u001b[1;34m'no element exist'\u001b[0m\u001b[1;33m)\u001b[0m\u001b[1;33m\u001b[0m\u001b[1;33m\u001b[0m\u001b[0m\n\u001b[0m\u001b[0;32m     87\u001b[0m         \u001b[1;32mreturn\u001b[0m \u001b[0mself\u001b[0m\u001b[1;33m.\u001b[0m\u001b[0mdata\u001b[0m\u001b[1;33m[\u001b[0m\u001b[1;36m1\u001b[0m\u001b[1;33m]\u001b[0m\u001b[1;33m\u001b[0m\u001b[1;33m\u001b[0m\u001b[0m\n\u001b[0;32m     88\u001b[0m \u001b[1;33m\u001b[0m\u001b[0m\n",
      "\u001b[1;31mKeyError\u001b[0m: 'no element exist'"
     ]
    }
   ],
   "source": [
    "mh.peek()"
   ]
  },
  {
   "cell_type": "code",
   "execution_count": 95,
   "metadata": {},
   "outputs": [
    {
     "data": {
      "text/plain": [
       "0"
      ]
     },
     "execution_count": 95,
     "metadata": {},
     "output_type": "execute_result"
    }
   ],
   "source": [
    "len(mh)"
   ]
  },
  {
   "cell_type": "code",
   "execution_count": null,
   "metadata": {},
   "outputs": [],
   "source": []
  }
 ],
 "metadata": {
  "kernelspec": {
   "display_name": "Python 3",
   "language": "python",
   "name": "python3"
  },
  "language_info": {
   "codemirror_mode": {
    "name": "ipython",
    "version": 3
   },
   "file_extension": ".py",
   "mimetype": "text/x-python",
   "name": "python",
   "nbconvert_exporter": "python",
   "pygments_lexer": "ipython3",
   "version": "3.7.6"
  }
 },
 "nbformat": 4,
 "nbformat_minor": 4
}
