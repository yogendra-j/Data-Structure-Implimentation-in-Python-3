{
 "cells": [
  {
   "cell_type": "markdown",
   "metadata": {},
   "source": [
    "## Union Find DataStructure with collaspsing find"
   ]
  },
  {
   "cell_type": "code",
   "execution_count": 82,
   "metadata": {},
   "outputs": [],
   "source": [
    "class UF:\n",
    "    \n",
    "    def __init__(self, vertices):\n",
    "        '''arg:\n",
    "        vertices : set of vertices'''\n",
    "        \n",
    "        # map of parents to verices\n",
    "        self.indexs = {vertices[i]: i for i in range(len(vertices))}\n",
    "        \n",
    "        # check from duplicates\n",
    "        if len(vertices) != len(self.indexs):\n",
    "            raise Exception(\"Duplicate vertices not allowed\")\n",
    "            \n",
    "        self.parents = [-1]*(len(self.indexs))\n",
    "    \n",
    "    def _find(self, vertice):\n",
    "        '''return index of parent of vertice'''\n",
    "        \n",
    "        if vertice not in self.indexs:\n",
    "            raise Exception('No vertice numberd {} found'.format(vertice))\n",
    "            \n",
    "        root = self.indexs[vertice]\n",
    "        \n",
    "        # find parent\n",
    "        while self.parents[root] >= 0:\n",
    "            root = self.parents[root]\n",
    "            \n",
    "        ind_vertice = self.indexs[vertice]\n",
    "        \n",
    "        # collapse find for better time complexity\n",
    "        while self.parents[ind_vertice] >= 0:\n",
    "            self.parents[self.indexs[vertice]], ind_vertice = root, self.parents[self.indexs[vertice]]\n",
    "            \n",
    "        return root\n",
    "    \n",
    "    def union(self, va, vb):\n",
    "        '''connect two vertices'''\n",
    "        \n",
    "        parent_va = self._find(va) \n",
    "        parent_vb = self._find(vb)\n",
    "        \n",
    "        # if already connected , return\n",
    "        if parent_va == parent_vb:\n",
    "            return\n",
    "        \n",
    "        # make parent if rank is more\n",
    "        if self.parents[parent_va] <= self.parents[parent_vb]:\n",
    "            self.parents[parent_va] += self.parents[parent_vb]\n",
    "            self.parents[parent_vb] = parent_va\n",
    "        else:\n",
    "            self.parents[parent_vb] += self.parents[parent_va]\n",
    "            self.parents[parent_va] = parent_vb\n",
    "    \n",
    "    def areConnected(self, va, vb):\n",
    "        '''check and return true if connection exists between va and vb vertices'''\n",
    "        \n",
    "        return self._find(va) == self._find(vb)\n",
    "\n",
    "    "
   ]
  },
  {
   "cell_type": "code",
   "execution_count": 83,
   "metadata": {},
   "outputs": [
    {
     "name": "stdout",
     "output_type": "stream",
     "text": [
      "True True True True\n"
     ]
    }
   ],
   "source": [
    "uf = UF('abcde')\n",
    "uf.union('e', 'a')\n",
    "uf.union('a', 'b')\n",
    "uf.union('b', 'c')\n",
    "uf.union('a', 'c')\n",
    "uf.union('e', 'c')\n",
    "uf.union('d', 'c')\n",
    "print(uf.areConnected('a','b'), uf.areConnected('b','e'), uf.areConnected('d','b'), uf.areConnected('d','e'))"
   ]
  },
  {
   "cell_type": "code",
   "execution_count": 81,
   "metadata": {},
   "outputs": [
    {
     "data": {
      "text/plain": [
       "[4, 4, 4, 4, -5]"
      ]
     },
     "execution_count": 81,
     "metadata": {},
     "output_type": "execute_result"
    }
   ],
   "source": [
    "uf.parents"
   ]
  },
  {
   "cell_type": "code",
   "execution_count": 12,
   "metadata": {},
   "outputs": [
    {
     "data": {
      "text/plain": [
       "2"
      ]
     },
     "execution_count": 12,
     "metadata": {},
     "output_type": "execute_result"
    }
   ],
   "source": [
    "len({1:1,2:3})"
   ]
  },
  {
   "cell_type": "code",
   "execution_count": 11,
   "metadata": {},
   "outputs": [
    {
     "data": {
      "text/plain": [
       "4"
      ]
     },
     "execution_count": 11,
     "metadata": {},
     "output_type": "execute_result"
    }
   ],
   "source": [
    "len(l)"
   ]
  },
  {
   "cell_type": "code",
   "execution_count": null,
   "metadata": {},
   "outputs": [],
   "source": []
  }
 ],
 "metadata": {
  "kernelspec": {
   "display_name": "Python 3",
   "language": "python",
   "name": "python3"
  },
  "language_info": {
   "codemirror_mode": {
    "name": "ipython",
    "version": 3
   },
   "file_extension": ".py",
   "mimetype": "text/x-python",
   "name": "python",
   "nbconvert_exporter": "python",
   "pygments_lexer": "ipython3",
   "version": "3.7.6"
  }
 },
 "nbformat": 4,
 "nbformat_minor": 4
}
