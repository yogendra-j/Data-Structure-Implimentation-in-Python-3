{
 "cells": [
  {
   "cell_type": "code",
   "execution_count": 1054,
   "metadata": {},
   "outputs": [],
   "source": [
    "class Node:\n",
    "    \n",
    "    def __init__(self, value):\n",
    "        self.left = None\n",
    "        self.right = None\n",
    "        self.parent = None\n",
    "        self.val = value\n",
    "    \n",
    "    def __repr__(self):\n",
    "        return str(self.val)\n",
    "\n",
    "    \n",
    "class Queue:\n",
    "    \n",
    "    class Node:\n",
    "        \n",
    "        def __init__(self, val):\n",
    "            self.val = val\n",
    "            self.next = None\n",
    "    \n",
    "\n",
    "    def __init__(self):\n",
    "        self.head = self.Node(None)\n",
    "        self.tail = self.head\n",
    "        self.size = 0\n",
    "\n",
    "    def enqueue(self, val):\n",
    "        new = self.Node(val)\n",
    "        self.tail.next = new\n",
    "        self.tail = new\n",
    "        self.size += 1\n",
    "\n",
    "    def dequeue(self):\n",
    "        if not self.head.next:\n",
    "            return None\n",
    "        self.head.next, out = self.head.next.next, self.head.next.val\n",
    "        self.size -= 1\n",
    "        if self.size == 0:\n",
    "            self.tail = self.head\n",
    "        return out\n",
    "    \n",
    "    def __len__(self):\n",
    "        return self.size\n",
    "    \n",
    "    def __repr__(self):\n",
    "        out = []\n",
    "        node = self.head\n",
    "        \n",
    "        while node:\n",
    "            out.append(str(node.val))\n",
    "            node = node.next\n",
    "        else:\n",
    "            out.append('None')\n",
    "            \n",
    "        return \"-->\".join(out)\n",
    "\n",
    "\n",
    "\n",
    "class BST:\n",
    "    \n",
    "    def __init__(self, root=None):\n",
    "        '''make a tree with root = root'''\n",
    "        if not root:\n",
    "            self.root = None\n",
    "            self.size = 0\n",
    "            return\n",
    "        self.root = Node(root)\n",
    "        self.size = 1\n",
    "    \n",
    "    def insert(self, item):\n",
    "        '''insert new item to BST'''\n",
    "        if not self.root:\n",
    "            self.root = Node(item)\n",
    "            return\n",
    "        self._insert(item, self.root)\n",
    "        self.size += 1\n",
    "    \n",
    "    def _insert(self, item, node):\n",
    "        '''private method to recursively add item'''\n",
    "        \n",
    "        if item >= node.val:\n",
    "            if not node.right:\n",
    "                newnode = Node(item)\n",
    "                node.right = newnode\n",
    "                newnode.parent = node\n",
    "                return\n",
    "            self._insert(item, node.right)\n",
    "        else:\n",
    "            if not node.left:\n",
    "                newnode = Node(item)\n",
    "                node.left = newnode\n",
    "                newnode.parent = node\n",
    "                return\n",
    "            self._insert(item, node.left)\n",
    "    \n",
    "    def remove(self, item):\n",
    "        '''remove item from BST'''\n",
    "        to_remove = self._find(item, self.root)\n",
    "        if to_remove == -1:\n",
    "            raise Exception(\"No such item exist in BST\")\n",
    "        self._remove(to_remove)\n",
    "        self.size -= 1\n",
    "    \n",
    "    def _remove(self, node):\n",
    "        '''private method to remove node'''\n",
    "        \n",
    "        if not node.left:\n",
    "            if not node.right:\n",
    "                if self.root == node:\n",
    "                    self.root = None\n",
    "                    return\n",
    "                if node.parent.left == node:\n",
    "                    node.parent.left = None\n",
    "                else:\n",
    "                    node.parent.right = None\n",
    "            else:\n",
    "                if self.root == node:\n",
    "                    self.root = node.right\n",
    "                    self.root.parent = None\n",
    "                    return\n",
    "                if node.parent.left == node:\n",
    "                    node.parent.left = node.right\n",
    "                    node.right.parent = node.parent\n",
    "                    node = None\n",
    "                else:\n",
    "                    node.parent.right = node.right\n",
    "                    node.right.parent = node.parent\n",
    "                    node = None\n",
    "                    \n",
    "        elif not node.right:\n",
    "            if node == self.root:\n",
    "                self.root = node.left\n",
    "                self.root.parent = None\n",
    "                return\n",
    "            if node.parent.left == node:\n",
    "                    node.parent.left = node.left\n",
    "                    node.left.parent = node.parent\n",
    "            else:\n",
    "                node.parent.right = node.left\n",
    "                node.left.parent = node.parent\n",
    "            node = None\n",
    "        \n",
    "        # find smallest node in right subtree and replace it with node to be deleted then delete smallest node\n",
    "        else:\n",
    "            curr = node.right\n",
    "            while curr.left:\n",
    "                curr = curr.left\n",
    "            node.val = curr.val\n",
    "            self._remove(curr)\n",
    "    \n",
    "    def _find(self, item, node):\n",
    "        if not node:\n",
    "            return -1  # not found\n",
    "        if item == node.val:\n",
    "            return node\n",
    "        elif item > node.val:\n",
    "            return self._find(item, node.right)\n",
    "        else:\n",
    "            return self._find(item, node.left)\n",
    "    \n",
    "    def __contains__(self, item):\n",
    "        return not (-1 == self._find(item, self.root))\n",
    "    \n",
    "    def __len__(self):\n",
    "        return self.size\n",
    "    \n",
    "    def inorder(self):\n",
    "        '''inorder triversal of BST'''\n",
    "        self._inorder(self.root)\n",
    "    \n",
    "    def _inorder(self, node):\n",
    "        if not node:\n",
    "            return\n",
    "        self._inorder(node.left)\n",
    "        print(node.val, end = \" \")\n",
    "        self._inorder(node.right)\n",
    "    \n",
    "    def inlevel(self):\n",
    "        '''level wise treversal'''\n",
    "        q1 = Queue()\n",
    "        node = self.root\n",
    "        while node:\n",
    "            if node.left:\n",
    "                q1.enqueue(node.left)\n",
    "            if node.right:\n",
    "                q1.enqueue(node.right)\n",
    "            print(node.val, end=\" \")\n",
    "            node = q1.dequeue()\n",
    "\n",
    "        "
   ]
  },
  {
   "cell_type": "code",
   "execution_count": 1075,
   "metadata": {},
   "outputs": [],
   "source": [
    "bst = BST()"
   ]
  },
  {
   "cell_type": "code",
   "execution_count": 1076,
   "metadata": {},
   "outputs": [
    {
     "name": "stdout",
     "output_type": "stream",
     "text": [
      "-1 None\n",
      "-1 12 None\n",
      "-1 12 13 None\n",
      "-313 -1 12 13 None\n",
      "-313 -23 -1 12 13 None\n",
      "-313 -23 -23 -1 12 13 None\n",
      "-313 -23 -23 -1 1 12 13 None\n",
      "-313 -31 -23 -23 -1 1 12 13 None\n",
      "-313 -123 -31 -23 -23 -1 1 12 13 None\n",
      "-313 -213 -123 -31 -23 -23 -1 1 12 13 None\n",
      "-313 -213 -123 -31 -23 -23 -12 -1 1 12 13 None\n",
      "-313 -213 -123 -31 -23 -23 -12 -1 -1 1 12 13 None\n",
      "-313 -213 -123 -31 -23 -23 -12 -1 -1 1 12 13 132 None\n",
      "-313 -213 -123 -31 -23 -23 -12 -1 -1 0 1 12 13 132 None\n",
      "-313 -213 -123 -31 -23 -23 -12 -1 -1 0 1 12 13 132 "
     ]
    }
   ],
   "source": [
    "l  = [-1,12,13,-313,-23,-23,1,-31,-123,-213,-12,-1,132,0]\n",
    "for i in l:\n",
    "    bst.insert(i)\n",
    "    print(bst.inorder())\n",
    "bst.inorder()"
   ]
  },
  {
   "cell_type": "code",
   "execution_count": 1065,
   "metadata": {},
   "outputs": [
    {
     "data": {
      "text/plain": [
       "[-313, -213, -123, -31, -23, -23, -12, -1, -1, 0, 1, 12, 13, 132]"
      ]
     },
     "execution_count": 1065,
     "metadata": {},
     "output_type": "execute_result"
    }
   ],
   "source": [
    "sorted(l)"
   ]
  },
  {
   "cell_type": "code",
   "execution_count": 1066,
   "metadata": {},
   "outputs": [
    {
     "data": {
      "text/plain": [
       "(14, 14)"
      ]
     },
     "execution_count": 1066,
     "metadata": {},
     "output_type": "execute_result"
    }
   ],
   "source": [
    "len(l),len(bst)"
   ]
  },
  {
   "cell_type": "code",
   "execution_count": 1059,
   "metadata": {},
   "outputs": [
    {
     "name": "stdout",
     "output_type": "stream",
     "text": [
      "13 "
     ]
    }
   ],
   "source": [
    "bst.inorder()"
   ]
  },
  {
   "cell_type": "code",
   "execution_count": 1060,
   "metadata": {},
   "outputs": [
    {
     "name": "stdout",
     "output_type": "stream",
     "text": [
      "13 "
     ]
    }
   ],
   "source": [
    "bst.inlevel()"
   ]
  },
  {
   "cell_type": "code",
   "execution_count": 1070,
   "metadata": {},
   "outputs": [],
   "source": [
    "bst.remove(13)"
   ]
  },
  {
   "cell_type": "code",
   "execution_count": 1071,
   "metadata": {},
   "outputs": [
    {
     "name": "stdout",
     "output_type": "stream",
     "text": [
      "-313 -213 -123 -31 -23 -23 -12 -1 -1 0 1 12 132 "
     ]
    }
   ],
   "source": [
    "bst.inorder()"
   ]
  },
  {
   "cell_type": "code",
   "execution_count": 1063,
   "metadata": {},
   "outputs": [
    {
     "ename": "AttributeError",
     "evalue": "'NoneType' object has no attribute 'left'",
     "output_type": "error",
     "traceback": [
      "\u001b[1;31m---------------------------------------------------------------------------\u001b[0m",
      "\u001b[1;31mAttributeError\u001b[0m                            Traceback (most recent call last)",
      "\u001b[1;32m<ipython-input-1063-4ef1a2484eb1>\u001b[0m in \u001b[0;36m<module>\u001b[1;34m\u001b[0m\n\u001b[1;32m----> 1\u001b[1;33m \u001b[0mbst\u001b[0m\u001b[1;33m.\u001b[0m\u001b[0mroot\u001b[0m\u001b[1;33m.\u001b[0m\u001b[0mleft\u001b[0m\u001b[1;33m.\u001b[0m\u001b[0mleft\u001b[0m\u001b[1;33m.\u001b[0m\u001b[0mparent\u001b[0m\u001b[1;33m\u001b[0m\u001b[1;33m\u001b[0m\u001b[0m\n\u001b[0m",
      "\u001b[1;31mAttributeError\u001b[0m: 'NoneType' object has no attribute 'left'"
     ]
    }
   ],
   "source": [
    "bst.root.left.left.parent"
   ]
  },
  {
   "cell_type": "code",
   "execution_count": null,
   "metadata": {},
   "outputs": [],
   "source": []
  }
 ],
 "metadata": {
  "kernelspec": {
   "display_name": "Python 3",
   "language": "python",
   "name": "python3"
  },
  "language_info": {
   "codemirror_mode": {
    "name": "ipython",
    "version": 3
   },
   "file_extension": ".py",
   "mimetype": "text/x-python",
   "name": "python",
   "nbconvert_exporter": "python",
   "pygments_lexer": "ipython3",
   "version": "3.7.6"
  }
 },
 "nbformat": 4,
 "nbformat_minor": 4
}
