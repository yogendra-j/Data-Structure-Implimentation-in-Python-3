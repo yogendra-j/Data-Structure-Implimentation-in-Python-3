{
 "cells": [
  {
   "cell_type": "code",
   "execution_count": 164,
   "metadata": {},
   "outputs": [],
   "source": [
    "class Node:\n",
    "    \n",
    "    def __init__(self, data):\n",
    "        self.data = data\n",
    "        self.left = None\n",
    "        self.right = None\n",
    "\n",
    "\n",
    "class BinarySearchTree:\n",
    "    \n",
    "    def __init__(self, key=lambda x: x):\n",
    "        '''key is function to compare two items eg. lambda x: -x , default: lambda x: x'''\n",
    "        self.root = None\n",
    "        self.size = 0\n",
    "        self.key = key\n",
    "    \n",
    "    def insert(self, data):\n",
    "        '''add item to BST'''\n",
    "        self.size += 1\n",
    "        if self.root:\n",
    "            self._insert(data, self.root)\n",
    "        else:\n",
    "            self.root = Node(data)\n",
    "    \n",
    "    def _insert(self, data, node):\n",
    "        '''private method to add item in the bst'''\n",
    "        # if data >= node, data should be in the right subtree\n",
    "        if self.key(data) >= self.key(node.data):\n",
    "            if node.right:\n",
    "                self._insert(data, node.right)\n",
    "            # set base case i.e. when node doest have right child\n",
    "            else:\n",
    "                node.right = Node(data)\n",
    "        # node should be in the right subtree\n",
    "        else:\n",
    "            if node.left:\n",
    "                self._insert(data, node.left)\n",
    "            # base case\n",
    "            else:\n",
    "                node.left = Node(data)\n",
    "    \n",
    "    def getmin(self):\n",
    "        '''return minimum item '''\n",
    "        return self._getmin().data\n",
    "    \n",
    "    def _getmin(self):\n",
    "        '''private method to return leftmot node'''\n",
    "        if self.size < 1:\n",
    "              raise Exception(\"No item in the BST\")\n",
    "        curr = self.root\n",
    "        # get leftmost node\n",
    "        while curr.left:\n",
    "            curr = curr.left\n",
    "        return curr\n",
    "    \n",
    "    def getmax(self):\n",
    "        '''return maximum item'''\n",
    "        return self._getmax().data\n",
    "    \n",
    "    def _getmax(self):\n",
    "        '''private method to return rightmost node'''\n",
    "        if self.size < 1:\n",
    "            raise Exception(\"No item in the BST\")\n",
    "        curr = self.root\n",
    "        # get rightmost node\n",
    "        while curr.right:\n",
    "            curr = curr.right\n",
    "        return curr\n",
    "    \n",
    "    def getsorted(self):\n",
    "        '''returns list of items in non decreasing order (comparison via key)'''\n",
    "        out = []\n",
    "        if self.size == 0:\n",
    "            return out\n",
    "        self._inorder(self.root, out)\n",
    "        return out\n",
    "    \n",
    "    def _inorder(self, node, arr):\n",
    "        '''adds items in the arr in order'''\n",
    "        # recusivly add nodes in order ....left, root, right\n",
    "        if node.left:\n",
    "            self._inorder(node.left, arr)\n",
    "            \n",
    "        arr.append(node.data)\n",
    "        \n",
    "        if node.right:\n",
    "            self._inorder(node.right, arr)\n",
    "            \n",
    "    def remove(self, data):\n",
    "        '''removes item from the bst'''\n",
    "        if self.size == 0:\n",
    "            raise Exception(\"Cannot remove from empty BST\")\n",
    "        self.root = self._remove(data, self.root)\n",
    "        self.size -= 1\n",
    "    \n",
    "    def _remove(self, data, node):\n",
    "        '''private method to remove item'''\n",
    "        if not node:\n",
    "            raise Exception(\"Item Not Found\")\n",
    "        # check if item is in right or left subtree\n",
    "        if self.key(data) >= self.key(node.data) and data != node.data:  # even if key is equal, item can be diffrent\n",
    "            # right child of node needs to be changed\n",
    "            node.right = self._remove(data, node.right)\n",
    "            \n",
    "        elif self.key(data) < self.key(node.data):\n",
    "            node.left = self._remove(data, node.left)\n",
    "        \n",
    "        # if item is equal to node.data\n",
    "        else:\n",
    "            # check if left node\n",
    "            if not node.right and not node.left:\n",
    "                del node\n",
    "                return None   # parent node should have None child\n",
    "            # if only left child \n",
    "            if not node.right:\n",
    "                return node.left  # parent should have node.left as child\n",
    "            # only right child\n",
    "            if not node.left:\n",
    "                return node.right\n",
    "            # node has both children\n",
    "            # replace node.data with data of its predecessor or sucessor\n",
    "            predecessor = self._getpredecessor(self, node)\n",
    "            node.data = predecessor.data\n",
    "            # now remove predecessor which will be easy because it will have atmost one child i.e. left child since it is rightmost node\n",
    "            node.left = self._remove(predecessor.data, node.left) # root for this operation is node.left\n",
    "            \n",
    "        return node\n",
    "    \n",
    "    def _getpredecessor(self, node):\n",
    "        '''private method to get predecessor i.e. max node of left subtree'''\n",
    "        # get rightmost node of subtree for curr\n",
    "        return self._getmax(node.left)\n",
    "    \n",
    "    def __repr__(self):\n",
    "        return \" \".join(map(str, self.getsorted()))\n",
    "        "
   ]
  },
  {
   "cell_type": "code",
   "execution_count": 165,
   "metadata": {},
   "outputs": [],
   "source": [
    "bs = BinarySearchTree()"
   ]
  },
  {
   "cell_type": "code",
   "execution_count": 166,
   "metadata": {},
   "outputs": [],
   "source": [
    "l = [12,23,43,12,45,1,-12,0]\n",
    "for i in l:\n",
    "    bs.insert(i)"
   ]
  },
  {
   "cell_type": "code",
   "execution_count": 167,
   "metadata": {},
   "outputs": [],
   "source": [
    "bs.remove(45)"
   ]
  },
  {
   "cell_type": "code",
   "execution_count": 168,
   "metadata": {},
   "outputs": [
    {
     "data": {
      "text/plain": [
       "43"
      ]
     },
     "execution_count": 168,
     "metadata": {},
     "output_type": "execute_result"
    }
   ],
   "source": [
    "bs.getmax()"
   ]
  },
  {
   "cell_type": "code",
   "execution_count": 169,
   "metadata": {},
   "outputs": [
    {
     "data": {
      "text/plain": [
       "[-12, 0, 1, 12, 12, 23, 43]"
      ]
     },
     "execution_count": 169,
     "metadata": {},
     "output_type": "execute_result"
    }
   ],
   "source": [
    "bs.getsorted() "
   ]
  },
  {
   "cell_type": "code",
   "execution_count": 170,
   "metadata": {},
   "outputs": [
    {
     "data": {
      "text/plain": [
       "-12 0 1 12 12 23 43"
      ]
     },
     "execution_count": 170,
     "metadata": {},
     "output_type": "execute_result"
    }
   ],
   "source": [
    "bs"
   ]
  },
  {
   "cell_type": "code",
   "execution_count": null,
   "metadata": {},
   "outputs": [],
   "source": []
  }
 ],
 "metadata": {
  "kernelspec": {
   "display_name": "Python 3",
   "language": "python",
   "name": "python3"
  },
  "language_info": {
   "codemirror_mode": {
    "name": "ipython",
    "version": 3
   },
   "file_extension": ".py",
   "mimetype": "text/x-python",
   "name": "python",
   "nbconvert_exporter": "python",
   "pygments_lexer": "ipython3",
   "version": "3.7.6"
  }
 },
 "nbformat": 4,
 "nbformat_minor": 4
}
