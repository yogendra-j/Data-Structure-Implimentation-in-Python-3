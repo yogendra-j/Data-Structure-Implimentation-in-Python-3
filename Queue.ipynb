{
 "cells": [
  {
   "cell_type": "markdown",
   "metadata": {},
   "source": [
    "## Singly Linked List Based"
   ]
  },
  {
   "cell_type": "code",
   "execution_count": 46,
   "metadata": {},
   "outputs": [],
   "source": [
    "class Node:\n",
    "    \n",
    "    def __init__(self, val):\n",
    "        '''creates a node with value = val and points to None'''\n",
    "        self.val = val\n",
    "        self.next = None\n",
    "        \n",
    "        \n",
    "        \n",
    "class LinkedList:\n",
    "    \n",
    "    def __init__(self):\n",
    "        self.head = Node(None)\n",
    "        self.size = 0\n",
    "    \n",
    "    def addElement(self, e, node):\n",
    "        '''Adds a node with value e next to Node = node and returns newly nadded ndoe'''\n",
    "        newNode = Node(e)\n",
    "        # changes node's next pointer to newNode and newNode's next pointer to node's next pointer\n",
    "        node.next, newNode.next = newNode, node.next\n",
    "        self.size += 1\n",
    "        return newNode\n",
    "    \n",
    "    def removeNode(self, node):\n",
    "        '''removes and returns (value) Node next to node'''\n",
    "        if not node.next:\n",
    "            raise Exception('No Node found next to node')\n",
    "        out = node.next.val\n",
    "        node.next = node.next.next\n",
    "        self.size -= 1\n",
    "        return out\n",
    "    \n",
    "    def __len__(self):\n",
    "        return self.size\n",
    "    \n",
    "    \n",
    "class QueueSL:\n",
    "    \n",
    "    def __init__(self):\n",
    "        self.linkedlist = LinkedList()\n",
    "        self.head = self.linkedlist.head\n",
    "        self.tail = self.head\n",
    "        \n",
    "    def enqueue(self, e):\n",
    "        '''add element at the end of the queue'''\n",
    "        self.tail = self.linkedlist.addElement(e, self.tail)\n",
    "    \n",
    "    def dequeue(self):\n",
    "        '''remove and return element at the front of the queue'''\n",
    "        if self.isempty():\n",
    "            raise Exception('Cannot dequeue from an empty queue')\n",
    "        if len(self.linkedlist) == 1:\n",
    "            out = self.linkedlist.removeNode(self.head)\n",
    "            self.tail = self.head\n",
    "            return out\n",
    "        \n",
    "        return self.linkedlist.removeNode(self.head)\n",
    "    \n",
    "    def isempty(self):\n",
    "        '''returns true if queue is empty'''\n",
    "        return len(self.linkedlist) == 0\n",
    "    \n",
    "    def __len__(self):\n",
    "        return len(self.linkedlist)\n",
    "    \n",
    "    def peek(self):\n",
    "        '''returns next out element (i.e. element front of the quque)'''\n",
    "        if self.isempty():\n",
    "            raise Exception('No element in the queue')\n",
    "        return self.head.next.val\n",
    "    \n",
    "    def __repr__(self):\n",
    "        out = []\n",
    "        node = self.head\n",
    "        \n",
    "        while node:\n",
    "            out.append(str(node.val))\n",
    "            node = node.next\n",
    "        else:\n",
    "            out.append('None')\n",
    "            \n",
    "        return \"-->\".join(out)\n"
   ]
  },
  {
   "cell_type": "markdown",
   "metadata": {},
   "source": [
    "#### Tests"
   ]
  },
  {
   "cell_type": "code",
   "execution_count": 68,
   "metadata": {},
   "outputs": [
    {
     "data": {
      "text/plain": [
       "2"
      ]
     },
     "execution_count": 68,
     "metadata": {},
     "output_type": "execute_result"
    }
   ],
   "source": [
    "q1 = QueueSL()\n",
    "q1.enqueue(1)\n",
    "q1.enqueue(2)\n",
    "q1.enqueue(3)\n",
    "q1.dequeue()\n",
    "q1.dequeue()\n",
    "\n"
   ]
  },
  {
   "cell_type": "code",
   "execution_count": 69,
   "metadata": {},
   "outputs": [
    {
     "name": "stdout",
     "output_type": "stream",
     "text": [
      "len(q1):  1\n",
      "isempty:  False\n",
      "peek:\t  3\n"
     ]
    }
   ],
   "source": [
    "print('len(q1):  {}\\nisempty:  {}\\npeek:\\t  {}'.format(len(q1), q1.isempty(), q1.peek()))"
   ]
  },
  {
   "cell_type": "code",
   "execution_count": 70,
   "metadata": {},
   "outputs": [
    {
     "data": {
      "text/plain": [
       "None-->3-->None"
      ]
     },
     "execution_count": 70,
     "metadata": {},
     "output_type": "execute_result"
    }
   ],
   "source": [
    "q1"
   ]
  },
  {
   "cell_type": "markdown",
   "metadata": {},
   "source": [
    "## Array based Queue"
   ]
  },
  {
   "cell_type": "markdown",
   "metadata": {},
   "source": [
    "### Simple Implimentation\n"
   ]
  },
  {
   "cell_type": "code",
   "execution_count": 49,
   "metadata": {},
   "outputs": [],
   "source": [
    "class QueueSA:\n",
    "    \n",
    "    def __init__(self):\n",
    "        self.list = [None]\n",
    "        self.size = 0\n",
    "    \n",
    "    def enqueue(self, e):\n",
    "        self.list.append(e)\n",
    "        self.size += 1\n",
    "    \n",
    "    def dequeue(self):\n",
    "        if self.isempty():\n",
    "            raise Exception(\"Cannot dequeue from empty queue\")\n",
    "        self.size -= 1\n",
    "        return self.list.pop(1)\n",
    "    \n",
    "    def isempty(self):\n",
    "        return self.size == 0\n",
    "    \n",
    "    def __len__(self):\n",
    "        return self.size\n",
    "    \n",
    "    def peek(self):\n",
    "        '''return next out element'''\n",
    "        if self.isempty():\n",
    "            raise Exception('No element in the queue')\n",
    "        return self.list[1]\n",
    "    \n",
    "    def __repr__(self):\n",
    "        out = [str(i) for i in self.list]\n",
    "        return \"-->\".join(out)\n",
    "    "
   ]
  },
  {
   "cell_type": "markdown",
   "metadata": {},
   "source": [
    "#### Test"
   ]
  },
  {
   "cell_type": "code",
   "execution_count": 50,
   "metadata": {},
   "outputs": [
    {
     "data": {
      "text/plain": [
       "1"
      ]
     },
     "execution_count": 50,
     "metadata": {},
     "output_type": "execute_result"
    }
   ],
   "source": [
    "q1 = QueueSA()\n",
    "q1.enqueue(1)\n",
    "q1.enqueue(2)\n",
    "q1.enqueue(3)\n",
    "q1.dequeue()\n",
    "# q1.dequeue()\n",
    "# q1.dequeue()\n",
    "# q1.enqueue(3)\n",
    "# q1.enqueue(2)\n",
    "# q1.dequeue()\n",
    "# q1.enqueue(2)\n",
    "# q1.dequeue()\n",
    "\n"
   ]
  },
  {
   "cell_type": "code",
   "execution_count": 51,
   "metadata": {},
   "outputs": [
    {
     "name": "stdout",
     "output_type": "stream",
     "text": [
      "len(q1):  2\n",
      "isempty:  False\n",
      "peek:\t  2\n"
     ]
    }
   ],
   "source": [
    "print('len(q1):  {}\\nisempty:  {}\\npeek:\\t  {}'.format(len(q1), q1.isempty(), q1.peek()))"
   ]
  },
  {
   "cell_type": "markdown",
   "metadata": {},
   "source": [
    "### Circular array Implimentation"
   ]
  },
  {
   "cell_type": "code",
   "execution_count": 52,
   "metadata": {},
   "outputs": [],
   "source": [
    "class QueueAC:\n",
    "    \n",
    "    def __init__(self):\n",
    "        self._capacity = 5\n",
    "        self.size = 0\n",
    "        self.list = [None]*self._capacity\n",
    "        self.first = 0\n",
    "    \n",
    "    def isempty(self):\n",
    "        '''return true if queue is empty'''\n",
    "        return self.size == 0\n",
    "    \n",
    "    def enqueue(self, e):\n",
    "        '''add element at the back of the queue'''\n",
    "        \n",
    "        if self.size == self._capacity:\n",
    "            self._resize(2 * self._capacity)\n",
    "        \n",
    "        first_empty = (self.first + self.size) % (self._capacity)\n",
    "        self.list[first_empty] = e\n",
    "        self.size += 1\n",
    "    \n",
    "    def dequeue(self):\n",
    "        '''remove and returns element at the front'''\n",
    "        \n",
    "        if self.isempty():\n",
    "            raise Exception('Cannot dequeue from empty queue')\n",
    "            \n",
    "        out = self.list[self.first]\n",
    "        self.list[self.first] = None\n",
    "        self.size -= 1\n",
    "        self.first = (self.first + 1) % self._capacity\n",
    "        if self.size < self._capacity // 4:\n",
    "            self._resize(self._capacity // 2)\n",
    "            \n",
    "        return out\n",
    "        \n",
    "    def _resize(self, cap):\n",
    "        '''resizes self.list to capacity = cap'''\n",
    "        newlist = [None]*cap\n",
    "        \n",
    "        for i in range(self.size):\n",
    "            newlist[i] = self.list[(self.first + i) % self._capacity]\n",
    "        self.list = newlist\n",
    "        self._capacity = cap\n",
    "        self.first = 0\n",
    "    \n",
    "    def peek(self):\n",
    "        '''returns element from front'''\n",
    "        if self.isempty():\n",
    "            raise Exception(\"No element in the Queue\")\n",
    "        return self.list[self.first]\n",
    "    \n",
    "    def __len__(self):\n",
    "        return self.size\n",
    "    \n",
    "    def __repr__(self):\n",
    "        out = ['None']*(self.size + 2)\n",
    "        for i in range(self.size):\n",
    "            out[i + 1] = str(self.list[(self.first + i) % self._capacity])\n",
    "        return \"-->\".join(out)\n",
    "        "
   ]
  },
  {
   "cell_type": "code",
   "execution_count": 53,
   "metadata": {},
   "outputs": [
    {
     "name": "stdout",
     "output_type": "stream",
     "text": [
      "None-->1-->None\n",
      "None-->1-->2-->None\n",
      "None-->1-->2-->3-->None\n",
      "None-->2-->3-->None\n",
      "None-->3-->None\n",
      "None-->None\n",
      "None-->3-->None\n",
      "None-->3-->2-->None\n",
      "None-->2-->None\n",
      "None-->2-->2-->None\n",
      "None-->2-->None\n"
     ]
    },
    {
     "data": {
      "text/plain": [
       "None-->None"
      ]
     },
     "execution_count": 53,
     "metadata": {},
     "output_type": "execute_result"
    }
   ],
   "source": [
    "q1 = QueueAC()\n",
    "q1.enqueue(1)\n",
    "print(q1)\n",
    "q1.enqueue(2)\n",
    "print(q1)\n",
    "q1.enqueue(3)\n",
    "print(q1)\n",
    "q1.dequeue()\n",
    "print(q1)\n",
    "q1.dequeue()\n",
    "print(q1)\n",
    "q1.dequeue()\n",
    "print(q1)\n",
    "q1.enqueue(3)\n",
    "print(q1)\n",
    "q1.enqueue(2)\n",
    "print(q1)\n",
    "q1.dequeue()\n",
    "print(q1)\n",
    "q1.enqueue(2)\n",
    "print(q1)\n",
    "q1.dequeue()\n",
    "print(q1)\n",
    "q1.dequeue()\n",
    "q1"
   ]
  },
  {
   "cell_type": "code",
   "execution_count": 54,
   "metadata": {},
   "outputs": [
    {
     "ename": "Exception",
     "evalue": "No element in the Queue",
     "output_type": "error",
     "traceback": [
      "\u001b[1;31m---------------------------------------------------------------------------\u001b[0m",
      "\u001b[1;31mException\u001b[0m                                 Traceback (most recent call last)",
      "\u001b[1;32m<ipython-input-54-d2dfc0cc9a3f>\u001b[0m in \u001b[0;36m<module>\u001b[1;34m\u001b[0m\n\u001b[1;32m----> 1\u001b[1;33m \u001b[0mprint\u001b[0m\u001b[1;33m(\u001b[0m\u001b[1;34m'len(q1):  {}\\nisempty:  {}\\npeek:\\t  {}'\u001b[0m\u001b[1;33m.\u001b[0m\u001b[0mformat\u001b[0m\u001b[1;33m(\u001b[0m\u001b[0mlen\u001b[0m\u001b[1;33m(\u001b[0m\u001b[0mq1\u001b[0m\u001b[1;33m)\u001b[0m\u001b[1;33m,\u001b[0m \u001b[0mq1\u001b[0m\u001b[1;33m.\u001b[0m\u001b[0misempty\u001b[0m\u001b[1;33m(\u001b[0m\u001b[1;33m)\u001b[0m\u001b[1;33m,\u001b[0m \u001b[0mq1\u001b[0m\u001b[1;33m.\u001b[0m\u001b[0mpeek\u001b[0m\u001b[1;33m(\u001b[0m\u001b[1;33m)\u001b[0m\u001b[1;33m)\u001b[0m\u001b[1;33m)\u001b[0m\u001b[1;33m\u001b[0m\u001b[1;33m\u001b[0m\u001b[0m\n\u001b[0m",
      "\u001b[1;32m<ipython-input-52-fc3ccbd2b64c>\u001b[0m in \u001b[0;36mpeek\u001b[1;34m(self)\u001b[0m\n\u001b[0;32m     49\u001b[0m         \u001b[1;34m'''returns element from front'''\u001b[0m\u001b[1;33m\u001b[0m\u001b[1;33m\u001b[0m\u001b[0m\n\u001b[0;32m     50\u001b[0m         \u001b[1;32mif\u001b[0m \u001b[0mself\u001b[0m\u001b[1;33m.\u001b[0m\u001b[0misempty\u001b[0m\u001b[1;33m(\u001b[0m\u001b[1;33m)\u001b[0m\u001b[1;33m:\u001b[0m\u001b[1;33m\u001b[0m\u001b[1;33m\u001b[0m\u001b[0m\n\u001b[1;32m---> 51\u001b[1;33m             \u001b[1;32mraise\u001b[0m \u001b[0mException\u001b[0m\u001b[1;33m(\u001b[0m\u001b[1;34m\"No element in the Queue\"\u001b[0m\u001b[1;33m)\u001b[0m\u001b[1;33m\u001b[0m\u001b[1;33m\u001b[0m\u001b[0m\n\u001b[0m\u001b[0;32m     52\u001b[0m         \u001b[1;32mreturn\u001b[0m \u001b[0mself\u001b[0m\u001b[1;33m.\u001b[0m\u001b[0mlist\u001b[0m\u001b[1;33m[\u001b[0m\u001b[0mself\u001b[0m\u001b[1;33m.\u001b[0m\u001b[0mfirst\u001b[0m\u001b[1;33m]\u001b[0m\u001b[1;33m\u001b[0m\u001b[1;33m\u001b[0m\u001b[0m\n\u001b[0;32m     53\u001b[0m \u001b[1;33m\u001b[0m\u001b[0m\n",
      "\u001b[1;31mException\u001b[0m: No element in the Queue"
     ]
    }
   ],
   "source": [
    "print('len(q1):  {}\\nisempty:  {}\\npeek:\\t  {}'.format(len(q1), q1.isempty(), q1.peek()))"
   ]
  },
  {
   "cell_type": "code",
   "execution_count": 55,
   "metadata": {},
   "outputs": [
    {
     "data": {
      "text/plain": [
       "None-->None"
      ]
     },
     "execution_count": 55,
     "metadata": {},
     "output_type": "execute_result"
    }
   ],
   "source": [
    "q1"
   ]
  },
  {
   "cell_type": "markdown",
   "metadata": {},
   "source": [
    "## Comparing The two implimentation"
   ]
  },
  {
   "cell_type": "code",
   "execution_count": 86,
   "metadata": {},
   "outputs": [],
   "source": [
    "q1 = QueueSL() # linkind list queue\n",
    "q2 = QueueSA ()# Array based simple \n",
    "q3 = QueueAC()  # circular array based Queue\n",
    "n = 99999"
   ]
  },
  {
   "cell_type": "code",
   "execution_count": 87,
   "metadata": {},
   "outputs": [
    {
     "name": "stdout",
     "output_type": "stream",
     "text": [
      "0.44919705390930176\n"
     ]
    }
   ],
   "source": [
    "from time import time\n",
    "time1 = time()\n",
    "for i in range(n):\n",
    "    q1.enqueue(i)\n",
    "for i in range(n):\n",
    "    q1.dequeue()\n",
    "print(time() - time1)\n",
    "    "
   ]
  },
  {
   "cell_type": "code",
   "execution_count": 88,
   "metadata": {},
   "outputs": [
    {
     "name": "stdout",
     "output_type": "stream",
     "text": [
      "1.2181117534637451\n"
     ]
    }
   ],
   "source": [
    "time1 = time()\n",
    "for i in range(n):\n",
    "    q2.enqueue(i)\n",
    "for i in range(n):\n",
    "    q2.dequeue()\n",
    "print(time() - time1)"
   ]
  },
  {
   "cell_type": "code",
   "execution_count": 89,
   "metadata": {},
   "outputs": [
    {
     "name": "stdout",
     "output_type": "stream",
     "text": [
      "0.24553132057189941\n"
     ]
    }
   ],
   "source": [
    "from time import time\n",
    "time1 = time()\n",
    "for i in range(n):\n",
    "    q3.enqueue(i)\n",
    "for i in range(n):\n",
    "    q3.dequeue()\n",
    "print(time() - time1)\n",
    "    "
   ]
  },
  {
   "cell_type": "code",
   "execution_count": 90,
   "metadata": {},
   "outputs": [
    {
     "data": {
      "text/plain": [
       "None"
      ]
     },
     "execution_count": 90,
     "metadata": {},
     "output_type": "execute_result"
    }
   ],
   "source": [
    "q2"
   ]
  },
  {
   "cell_type": "code",
   "execution_count": 91,
   "metadata": {},
   "outputs": [
    {
     "data": {
      "text/plain": [
       "None-->None"
      ]
     },
     "execution_count": 91,
     "metadata": {},
     "output_type": "execute_result"
    }
   ],
   "source": [
    "q1"
   ]
  },
  {
   "cell_type": "code",
   "execution_count": 92,
   "metadata": {},
   "outputs": [
    {
     "data": {
      "text/plain": [
       "None-->None"
      ]
     },
     "execution_count": 92,
     "metadata": {},
     "output_type": "execute_result"
    }
   ],
   "source": [
    "q3"
   ]
  },
  {
   "cell_type": "code",
   "execution_count": 93,
   "metadata": {},
   "outputs": [],
   "source": [
    "import sys"
   ]
  },
  {
   "cell_type": "code",
   "execution_count": 94,
   "metadata": {},
   "outputs": [
    {
     "data": {
      "text/plain": [
       "56"
      ]
     },
     "execution_count": 94,
     "metadata": {},
     "output_type": "execute_result"
    }
   ],
   "source": [
    "sys.getsizeof(q1)"
   ]
  },
  {
   "cell_type": "code",
   "execution_count": 95,
   "metadata": {},
   "outputs": [
    {
     "data": {
      "text/plain": [
       "56"
      ]
     },
     "execution_count": 95,
     "metadata": {},
     "output_type": "execute_result"
    }
   ],
   "source": [
    "sys.getsizeof(q2)"
   ]
  },
  {
   "cell_type": "code",
   "execution_count": 96,
   "metadata": {},
   "outputs": [
    {
     "data": {
      "text/plain": [
       "56"
      ]
     },
     "execution_count": 96,
     "metadata": {},
     "output_type": "execute_result"
    }
   ],
   "source": [
    "sys.getsizeof(q3)"
   ]
  },
  {
   "cell_type": "code",
   "execution_count": null,
   "metadata": {},
   "outputs": [],
   "source": []
  },
  {
   "cell_type": "code",
   "execution_count": null,
   "metadata": {},
   "outputs": [],
   "source": []
  },
  {
   "cell_type": "code",
   "execution_count": null,
   "metadata": {},
   "outputs": [],
   "source": []
  },
  {
   "cell_type": "code",
   "execution_count": null,
   "metadata": {},
   "outputs": [],
   "source": []
  }
 ],
 "metadata": {
  "kernelspec": {
   "display_name": "Python 3",
   "language": "python",
   "name": "python3"
  },
  "language_info": {
   "codemirror_mode": {
    "name": "ipython",
    "version": 3
   },
   "file_extension": ".py",
   "mimetype": "text/x-python",
   "name": "python",
   "nbconvert_exporter": "python",
   "pygments_lexer": "ipython3",
   "version": "3.7.6"
  }
 },
 "nbformat": 4,
 "nbformat_minor": 4
}
